{
  "nbformat": 4,
  "nbformat_minor": 0,
  "metadata": {
    "colab": {
      "provenance": [],
      "include_colab_link": true
    },
    "kernelspec": {
      "name": "python3",
      "display_name": "Python 3"
    },
    "language_info": {
      "name": "python"
    }
  },
  "cells": [
    {
      "cell_type": "markdown",
      "metadata": {
        "id": "view-in-github",
        "colab_type": "text"
      },
      "source": [
        "<a href=\"https://colab.research.google.com/github/SAD31415/Universily/blob/main/%20%D0%97%D0%B0%D0%B4%D0%B0%D0%BD%D0%B8%D1%8F/Ex_task_1.ipynb\" target=\"_parent\"><img src=\"https://colab.research.google.com/assets/colab-badge.svg\" alt=\"Open In Colab\"/></a>"
      ]
    },
    {
      "cell_type": "markdown",
      "source": [
        "### **Дополнительное задание №2.1**"
      ],
      "metadata": {
        "id": "AFKOdzjAKWYc"
      }
    },
    {
      "cell_type": "markdown",
      "source": [
        "---\n",
        "\n",
        "**Пункт 1:**\n",
        "\n",
        "Напишите программу, которая принимает список строк, содержащих числа, и преобраует их в список целых чисел, возведённых в куб. Используйте функции `map()` и `lambda`.\n",
        "\n",
        "**Пример:**\n",
        "\n",
        "```python\n",
        "# Входные данные\n",
        "numbers = ['1', '2', '3', '4', '5']\n",
        "\n",
        "# Ожидаемый результат\n",
        "[1, 8, 27, 64, 125]\n",
        "```"
      ],
      "metadata": {
        "id": "qIQeFXOZKtlE"
      }
    },
    {
      "cell_type": "code",
      "source": [
        "numbers = ['1', '2', '3', '4', '5']\n",
        "a = list(map(lambda x: int(x)**3, numbers))\n",
        "print(a)"
      ],
      "metadata": {
        "id": "g4gpq3TwKus0",
        "outputId": "8d5da0d1-00b3-4486-a715-1ff50772c913",
        "colab": {
          "base_uri": "https://localhost:8080/"
        }
      },
      "execution_count": 2,
      "outputs": [
        {
          "output_type": "stream",
          "name": "stdout",
          "text": [
            "[1, 8, 27, 64, 125]\n"
          ]
        }
      ]
    },
    {
      "cell_type": "markdown",
      "source": [
        "---\n",
        "\n",
        "**Пункт 2:**\n",
        "\n",
        "Используя `filter()` и `lambda`, из списка слов отфильтруйте только те, которые начинаются и заканчиваются на одну и ту же букву.\n",
        "\n",
        "**Пример:**\n",
        "\n",
        "```python\n",
        "# Входные данные\n",
        "words = ['level', 'python', 'radar', 'world', 'rotor']\n",
        "\n",
        "# Ожидаемый результат\n",
        "['level', 'radar', 'rotor']\n",
        "```"
      ],
      "metadata": {
        "id": "L86Zyn5OK0FW"
      }
    },
    {
      "cell_type": "code",
      "source": [
        "words = ['level', 'python', 'radar', 'world', 'rotor']\n",
        "a = list(filter(lambda x: x[0] == x[-1], words))\n",
        "print(a)"
      ],
      "metadata": {
        "id": "k0-9uu2iK45z",
        "outputId": "f9566f46-88d6-40d3-c877-148576c678b5",
        "colab": {
          "base_uri": "https://localhost:8080/"
        }
      },
      "execution_count": 3,
      "outputs": [
        {
          "output_type": "stream",
          "name": "stdout",
          "text": [
            "['level', 'radar', 'rotor']\n"
          ]
        }
      ]
    },
    {
      "cell_type": "markdown",
      "source": [
        "---\n",
        "\n",
        "**Пункт 3:**\n",
        "\n",
        "С помощью `reduce()` и `lambda` найдите наибольшее число в списке чисел.\n",
        "\n",
        "**Подсказка:** Функция `reduce()` находится в модуле `functools`.\n",
        "\n",
        "**Пример:**\n",
        "\n",
        "```python\n",
        "# Входные данные\n",
        "numbers = [47, 11, 42, 102, 13]\n",
        "\n",
        "# Ожидаемый результат\n",
        "102\n",
        "```"
      ],
      "metadata": {
        "id": "ppIY_xrQK5ZT"
      }
    },
    {
      "cell_type": "code",
      "source": [
        "from functools import reduce\n",
        "numbers = [47, 11, 42, 102, 13]\n",
        "a = reduce(lambda x, y: x if x > y else y, numbers)\n",
        "print(a)"
      ],
      "metadata": {
        "id": "Gl9iHqHuK6Gp",
        "outputId": "9060f92f-04ec-4e15-98f5-88ad36e39560",
        "colab": {
          "base_uri": "https://localhost:8080/"
        }
      },
      "execution_count": 4,
      "outputs": [
        {
          "output_type": "stream",
          "name": "stdout",
          "text": [
            "102\n"
          ]
        }
      ]
    },
    {
      "cell_type": "markdown",
      "source": [
        "---\n",
        "\n",
        "**Пункт 4:**\n",
        "\n",
        "Объедините два списка чисел в один список кортежей, где каждый кортеж состоит из элементов исходных списков, возведённых в квадрат и куб соответственно. Используйте функции `map()`, `lambda` и `zip()`.\n",
        "\n",
        "**Пример:**\n",
        "\n",
        "```python\n",
        "# Входные данные\n",
        "list1 = [1, 2, 3]\n",
        "list2 = [4, 5, 6]\n",
        "\n",
        "# Ожидаемый результат\n",
        "[(1, 64), (4, 125), (9, 216)]\n",
        "```"
      ],
      "metadata": {
        "id": "J_wCDrsHK8Rr"
      }
    },
    {
      "cell_type": "code",
      "source": [
        "list1 = [1, 2, 3]\n",
        "list2 = [4, 5, 6]\n",
        "a = list(map(lambda x: (x[0]**2, x[1]**3), zip(list1, list2)))\n",
        "print(a)"
      ],
      "metadata": {
        "id": "D9mval4GK9PB",
        "outputId": "dc65e378-a06b-439d-80bb-74e76352cec9",
        "colab": {
          "base_uri": "https://localhost:8080/"
        }
      },
      "execution_count": 5,
      "outputs": [
        {
          "output_type": "stream",
          "name": "stdout",
          "text": [
            "[(1, 64), (4, 125), (9, 216)]\n"
          ]
        }
      ]
    },
    {
      "cell_type": "markdown",
      "source": [
        "---\n",
        "\n",
        "**Пункт 5:**\n",
        "\n",
        "Напишите программу, которая принимает строку с целыми числами, разделёнными запятыми, и вычисляет сумму чётных чисел из этой строки. Используйте функции `map()`, `filter()`, `lambda` и `reduce()`.\n",
        "\n",
        "**Пример:**\n",
        "\n",
        "```python\n",
        "# Входные данные\n",
        "numbers = '1,2,3,4,5,6,7,8,9,10'\n",
        "\n",
        "# Ожидаемый результат\n",
        "30  # (2 + 4 + 6 + 8 + 10)\n",
        "```"
      ],
      "metadata": {
        "id": "6S0zCchALAAc"
      }
    },
    {
      "cell_type": "code",
      "source": [
        "from functools import reduce\n",
        "numbers = '1,2,3,4,5,6,7,8,9,10'\n",
        "a = reduce(lambda x, y: x + y, filter(lambda x: x % 2 == 0, map(int, numbers.split(','))))\n",
        "print(a)"
      ],
      "metadata": {
        "id": "GSxOpO5CLDN2",
        "outputId": "428a7c00-b4b0-4ef8-e45b-720669b1c59e",
        "colab": {
          "base_uri": "https://localhost:8080/"
        }
      },
      "execution_count": 6,
      "outputs": [
        {
          "output_type": "stream",
          "name": "stdout",
          "text": [
            "30\n"
          ]
        }
      ]
    },
    {
      "cell_type": "markdown",
      "source": [
        "\n",
        "---\n",
        "\n",
        "**Пункт 6:**\n",
        "\n",
        "Используя `map()` и `lambda`, преобрауйте список температур в граусах Цельсия в список температур в граусах Фаренгейта. Формула преобраования: F = C * 9/5 + 32.\n",
        "\n",
        "**Пример:**\n",
        "\n",
        "```python\n",
        "# Входные данные\n",
        "celsius = [0, 15, 30, 100]\n",
        "\n",
        "# Ожидаемый результат\n",
        "[32.0, 59.0, 86.0, 212.0]\n",
        "```"
      ],
      "metadata": {
        "id": "XnZG4q22LCSU"
      }
    },
    {
      "cell_type": "code",
      "source": [
        "celsius = [0, 15, 30, 100]\n",
        "a = list(map(lambda c: c * 9/5 + 32, celsius))\n",
        "print(a)"
      ],
      "metadata": {
        "id": "A03mTrhNLC06",
        "outputId": "1a4969e1-62ec-4453-bcc5-7ed7e7502442",
        "colab": {
          "base_uri": "https://localhost:8080/"
        }
      },
      "execution_count": 7,
      "outputs": [
        {
          "output_type": "stream",
          "name": "stdout",
          "text": [
            "[32.0, 59.0, 86.0, 212.0]\n"
          ]
        }
      ]
    },
    {
      "cell_type": "markdown",
      "source": [
        "---\n",
        "\n",
        "**Пункт 7:**\n",
        "\n",
        "У вас есть список чисел. Используя комбинацию функций `filter()`, `map()` и `lambda`, получите новый список, содержащий квадраты нечётных чисел из исходного списка.\n",
        "\n",
        "**Пример:**\n",
        "\n",
        "```python\n",
        "# Входные данные\n",
        "numbers = [1, 2, 3, 4, 5, 6, 7, 8, 9]\n",
        "\n",
        "# Ожидаемый результат\n",
        "[1, 9, 25, 49, 81]\n",
        "```\n",
        "\n"
      ],
      "metadata": {
        "id": "r-fsnwuhLFXg"
      }
    },
    {
      "cell_type": "code",
      "source": [
        "numbers = [1, 2, 3, 4, 5, 6, 7, 8, 9]\n",
        "a = list(map(lambda x: x**2, filter(lambda x: x % 2, numbers)))\n",
        "print(a)"
      ],
      "metadata": {
        "id": "ZV0oNPqlLose",
        "outputId": "aad74b5e-15f4-4144-8a50-397a8497c878",
        "colab": {
          "base_uri": "https://localhost:8080/"
        }
      },
      "execution_count": 8,
      "outputs": [
        {
          "output_type": "stream",
          "name": "stdout",
          "text": [
            "[1, 9, 25, 49, 81]\n"
          ]
        }
      ]
    },
    {
      "cell_type": "markdown",
      "source": [
        "---\n",
        "**Пункт 8:**\n",
        "\n",
        "С помощью функции `reduce()` и `lambda` вычислите произведение всех чисел в списке.\n",
        "\n",
        "**Пример:**\n",
        "\n",
        "```python\n",
        "# Входные данные\n",
        "numbers = [1, 2, 3, 4, 5]\n",
        "\n",
        "# Ожидаемый результат\n",
        "120  # (1 * 2 * 3 * 4 * 5)\n",
        "```"
      ],
      "metadata": {
        "id": "Rvn8FWnmLHOP"
      }
    },
    {
      "cell_type": "code",
      "source": [
        "from functools import reduce\n",
        "numbers = [1, 2, 3, 4, 5]\n",
        "a = reduce(lambda x, y: x * y, numbers)\n",
        "print(a)"
      ],
      "metadata": {
        "id": "_J-9EEJwLJk-",
        "outputId": "5f82ea7f-5356-4e6a-8f82-d14a95ebb15d",
        "colab": {
          "base_uri": "https://localhost:8080/"
        }
      },
      "execution_count": 9,
      "outputs": [
        {
          "output_type": "stream",
          "name": "stdout",
          "text": [
            "120\n"
          ]
        }
      ]
    },
    {
      "cell_type": "markdown",
      "source": [
        "---\n",
        "\n",
        "**Пункт 9:**\n",
        "\n",
        "Дан список строковых представлений чисел. Используя `map()`, `lambda` и метод строки `isdigit()`, преобразуйте список, заменив нечисловые строки на число 0.\n",
        "\n",
        "**Пример:**\n",
        "\n",
        "```python\n",
        "# Входные данные\n",
        "strings = ['10', '20', 'abc', '30', 'def']\n",
        "\n",
        "# Ожидаемый результат\n",
        "[10, 20, 0, 30, 0]\n",
        "```"
      ],
      "metadata": {
        "id": "_BXHdCrfLJtd"
      }
    },
    {
      "cell_type": "code",
      "source": [
        "s = ['10', '20', 'abc', '30', 'def']\n",
        "a = list(map(lambda s: int(s) if s.isdigit() else 0, s))\n",
        "print(a)"
      ],
      "metadata": {
        "id": "uOLoUIMmLLwG",
        "outputId": "251d7e30-cdc7-44fe-e3fb-a3479521a0e7",
        "colab": {
          "base_uri": "https://localhost:8080/"
        }
      },
      "execution_count": 17,
      "outputs": [
        {
          "output_type": "stream",
          "name": "stdout",
          "text": [
            "[10, 20, 0, 30, 0]\n"
          ]
        }
      ]
    },
    {
      "cell_type": "markdown",
      "source": [
        "---\n",
        "\n",
        "**Пункт 10:**\n",
        "\n",
        "Есть два списка координат X и Y одинаковой длины. Используя `zip()` и `lambda`, объедините их в список точек — кортежей `(x, y)`.\n",
        "\n",
        "**Пример:**\n",
        "\n",
        "```python\n",
        "# Входные данные\n",
        "x_coords = [1, 2, 3]\n",
        "y_coords = [4, 5, 6]\n",
        "\n",
        "# Ожидаемый результат\n",
        "[(1, 4), (2, 5), (3, 6)]\n",
        "```"
      ],
      "metadata": {
        "id": "DovAPjnhLL3i"
      }
    },
    {
      "cell_type": "code",
      "source": [
        "x_coords = [1, 2, 3]\n",
        "y_coords = [4, 5, 6]\n",
        "a = list(map(lambda xy: (xy[0], xy[1]), zip(x_coords, y_coords)))\n",
        "print(a)"
      ],
      "metadata": {
        "id": "BhyGHMK4LPey",
        "outputId": "7730cbac-344e-46c5-9c21-3d4060c19835",
        "colab": {
          "base_uri": "https://localhost:8080/"
        }
      },
      "execution_count": 11,
      "outputs": [
        {
          "output_type": "stream",
          "name": "stdout",
          "text": [
            "[(1, 4), (2, 5), (3, 6)]\n"
          ]
        }
      ]
    },
    {
      "cell_type": "markdown",
      "source": [
        "---\n",
        "\n",
        "**Пункт 11:**\n",
        "\n",
        "Напишите программу, которая принимает список слов и возвращает словарь, где ключами являются слова, а значениями — длины этих слов. Используйте `map()` и `lambda`.\n",
        "\n",
        "**Пример:**\n",
        "\n",
        "```python\n",
        "# Входные данные\n",
        "words = ['apple', 'banana', 'cherry']\n",
        "\n",
        "# Ожидаемый результат\n",
        "{'apple': 5, 'banana': 6, 'cherry': 6}\n",
        "```"
      ],
      "metadata": {
        "id": "56GJYuVCLOrF"
      }
    },
    {
      "cell_type": "code",
      "source": [
        "words = ['apple', 'banana', 'cherry']\n",
        "a = dict(map(lambda word: (word, len(word)), words))\n",
        "print(a)"
      ],
      "metadata": {
        "id": "8dSc6w2DLS72",
        "outputId": "cbe85f6b-0f5d-41ab-93a5-7cb4caab9b2a",
        "colab": {
          "base_uri": "https://localhost:8080/"
        }
      },
      "execution_count": 16,
      "outputs": [
        {
          "output_type": "stream",
          "name": "stdout",
          "text": [
            "{'apple': 5, 'banana': 6, 'cherry': 6}\n"
          ]
        }
      ]
    },
    {
      "cell_type": "markdown",
      "source": [
        "---\n",
        "\n",
        "**Пункт 12:**\n",
        "\n",
        "Используя `filter()` и `lambda`, из списка чисел оставьте только простые числа.\n",
        "\n",
        "**Пример:**\n",
        "\n",
        "```python\n",
        "# Входные данные\n",
        "numbers = [2, 3, 4, 5, 6, 7, 8, 9, 10]\n",
        "\n",
        "# Ожидаемый результат\n",
        "[2, 3, 5, 7]\n",
        "```\n",
        "\n",
        "*Подсказка:* Для проверки числа на простоту может понадобиться дополнительная функция.\n"
      ],
      "metadata": {
        "id": "HJ3Yi_p1LRvV"
      }
    },
    {
      "cell_type": "code",
      "source": [
        "from re import finditer\n",
        "numbers = [2, 3, 4, 5, 6, 7, 8, 9, 10]\n",
        "def f(n):\n",
        "    if n < 2:\n",
        "        return False\n",
        "    for a in range(2, int(n**0.5) + 1):\n",
        "        if n % a == 0:\n",
        "            return False\n",
        "    return True\n",
        "c = list(filter(lambda x: f(x), numbers))\n",
        "print(c)"
      ],
      "metadata": {
        "id": "EiXmhVh0LSks",
        "outputId": "1d36d8a9-91c8-437b-c074-31dafaa0d13f",
        "colab": {
          "base_uri": "https://localhost:8080/"
        }
      },
      "execution_count": 18,
      "outputs": [
        {
          "output_type": "stream",
          "name": "stdout",
          "text": [
            "[2, 3, 5, 7]\n"
          ]
        }
      ]
    },
    {
      "cell_type": "markdown",
      "source": [
        "---\n",
        "**Пункт 13:**\n",
        "\n",
        "Объедините три списка чисел в один список сумм соответствующих элементов. Используйте `map()`, `lambda` и `zip()`.\n",
        "\n",
        "**Пример:**\n",
        "\n",
        "```python\n",
        "# Входные данные\n",
        "list1 = [1, 2, 3]\n",
        "list2 = [4, 5, 6]\n",
        "list3 = [7, 8, 9]\n",
        "\n",
        "# Ожидаемый результат\n",
        "[12, 15, 18]  # (1+4+7, 2+5+8, 3+6+9)\n",
        "```"
      ],
      "metadata": {
        "id": "3ypTpW-hLWCv"
      }
    },
    {
      "cell_type": "code",
      "source": [
        "list1 = [1, 2, 3]\n",
        "list2 = [4, 5, 6]\n",
        "list3 = [7, 8, 9]\n",
        "a = list(map(lambda x: x[0] + x[1] + x[2], zip(list1, list2, list3)))\n",
        "print(a)"
      ],
      "metadata": {
        "id": "QK69qMn-LYig",
        "outputId": "35468054-69e2-4b9c-ea5f-dce53bda0fc9",
        "colab": {
          "base_uri": "https://localhost:8080/"
        }
      },
      "execution_count": 19,
      "outputs": [
        {
          "output_type": "stream",
          "name": "stdout",
          "text": [
            "[12, 15, 18]\n"
          ]
        }
      ]
    },
    {
      "cell_type": "markdown",
      "source": [
        "---\n",
        "\n",
        "**Пункт 14:**\n",
        "\n",
        "С помощью `reduce()` и `lambda` подсчитайте количество появлений каждого символа в строке (без учета регистра), и выведите символ, который встречается чаще всего.\n",
        "\n",
        "**Пример:**\n",
        "\n",
        "```python\n",
        "# Входные данные\n",
        "text = 'Functional programming with lambda functions'\n",
        "\n",
        "# Ожидаемый результат\n",
        "'n'  # n встречается чаще всего\n",
        "```\n",
        "\n",
        "*Подсказка:* Возможно, понадобится преобразовать строку в список символов и использовать словарь для подсчета."
      ],
      "metadata": {
        "id": "ux8lk6DULYrL"
      }
    },
    {
      "cell_type": "code",
      "source": [
        "from functools import reduce\n",
        "text = 'Functional programming with lambda functions'\n",
        "a = list(text.lower())\n",
        "b = reduce(lambda count_dict, char:\n",
        "                   {**count_dict, char: count_dict.get(char, 0) + 1}, a, {})\n",
        "c = reduce(lambda x, y: x if x[1] > y[1] else y, b.items())\n",
        "print(f\"'{c[0]}'\")"
      ],
      "metadata": {
        "id": "H5775c9vLlwh",
        "outputId": "1a455fc8-fc11-495f-c04f-0123e7878be9",
        "colab": {
          "base_uri": "https://localhost:8080/"
        }
      },
      "execution_count": 20,
      "outputs": [
        {
          "output_type": "stream",
          "name": "stdout",
          "text": [
            "'n'\n"
          ]
        }
      ]
    },
    {
      "cell_type": "markdown",
      "source": [
        "---\n",
        "\n",
        "**Пункт 15:**\n",
        "\n",
        "Используя `map()`, `filter()`, `reduce()` и `lambda`, из заданного списка слов найдите общее количество гласных букв.\n",
        "\n",
        "**Пример:**\n",
        "\n",
        "```python\n",
        "# Входные данные\n",
        "words = ['python', 'lambda', 'functions', 'map', 'filter', 'reduce']\n",
        "\n",
        "# Ожидаемый результат\n",
        "13\n",
        "```\n",
        "\n",
        "*Подсказка:* Гласные буквы — 'a', 'e', 'i', 'o', 'u'."
      ],
      "metadata": {
        "id": "VFm4NoORKNEV"
      }
    },
    {
      "cell_type": "code",
      "source": [
        "from functools import reduce\n",
        "words = ['python', 'lambda', 'functions', 'map', 'filter', 'reduce']\n",
        "vowels = 'aeiouy'\n",
        "a = reduce(lambda x, y: x + y,\n",
        "                map(lambda word: len(list(filter(lambda c: c in vowels, word))),\n",
        "                    words))\n",
        "print(a)"
      ],
      "metadata": {
        "id": "QGrZe4tWLiYW",
        "outputId": "c7088e09-e7be-45f2-9800-8f9436479166",
        "colab": {
          "base_uri": "https://localhost:8080/"
        }
      },
      "execution_count": 21,
      "outputs": [
        {
          "output_type": "stream",
          "name": "stdout",
          "text": [
            "13\n"
          ]
        }
      ]
    },
    {
      "cell_type": "markdown",
      "source": [
        "---"
      ],
      "metadata": {
        "id": "9xSbH7rdM4MS"
      }
    }
  ]
}